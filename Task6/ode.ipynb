{
 "cells": [
  {
   "cell_type": "code",
   "execution_count": 46,
   "id": "ebf3713a-c026-4382-a41d-4650c87642f1",
   "metadata": {},
   "outputs": [
    {
     "data": {
      "text/plain": [
       "taylor_series (generic function with 1 method)"
      ]
     },
     "execution_count": 46,
     "metadata": {},
     "output_type": "execute_result"
    }
   ],
   "source": [
    "# y'(x)= - 2∙y(x) + y^2(x)\n",
    "exact_sol(x) = 2 / (exp(2*x) + 1)\n",
    "exact_sol(x) = 2 / (3*exp(2*x) + 1)\n",
    "taylor_series(x) = 1 - x + x^3/3 - 2*x^5/15 + 17*x^7/315\n",
    "taylor_series(x) = 1/2 - (3*x)/4 + (3*x^2)/8 + x^3/16 - (5*x^4)/32 + (13*x^5)/320 + (77*x^6)/1920"
   ]
  },
  {
   "cell_type": "code",
   "execution_count": 47,
   "id": "ec1e9ceb-45ca-402f-ae13-1ca9b6844142",
   "metadata": {},
   "outputs": [
    {
     "data": {
      "text/plain": [
       "euler2 (generic function with 1 method)"
      ]
     },
     "execution_count": 47,
     "metadata": {},
     "output_type": "execute_result"
    }
   ],
   "source": [
    "using Polynomials, SpecialPolynomials, DifferentialEquations\n",
    "n = 1\n",
    "(N, h) = (10^n, 10.0^(-n))\n",
    "x_0 = 0\n",
    "y0 = 0.5\n",
    "k_range = -2:N\n",
    "\n",
    "function calc_exact(x_arr, exact)\n",
    "    for k in k_range\n",
    "        x_k = x_0 + k * h\n",
    "        y_exact_k = exact_sol(x_k)\n",
    "        push!(x_arr, x_k)\n",
    "        push!(exact, y_exact_k)\n",
    "    end\n",
    "end\n",
    "\n",
    "function call_adams(x_arr)\n",
    "    ans = [y0]\n",
    "    \n",
    "    x_table = collect(Iterators.take(x_arr,5))\n",
    "    y_table = taylor_series.(x_table)\n",
    "    println(x_table)\n",
    "    println(y_table)\n",
    "    lagrange = fit(Lagrange, x_table, y_table)\n",
    "    adl = integrate(lagrange)\n",
    "    for k in 1:N-1\n",
    "        push!(ans, ans[k] + adl(x_0 + (k + 1) * h) - adl(x_0 + k * h))\n",
    "    end\n",
    "    print(ans)\n",
    "    return ans\n",
    "end\n",
    "\n",
    "function call_adams2()\n",
    "    fun(y, p, t) = -2*y + y*y\n",
    "    tspan = (x_0, x_0 + N * h)\n",
    "    prob = ODEProblem(fun, y0, tspan, dt=h)\n",
    "    sol = solve(prob, AB4(), reltol = 1e-8, saveat=h)\n",
    "    return sol.u\n",
    "end\n",
    "    \n",
    "function call_rk4()\n",
    "    fun(y, p, t) = -2*y + y*y\n",
    "    tspan = (x_0, x_0 + N * h)\n",
    "    prob = ODEProblem(fun, y0, tspan)\n",
    "    sol = solve(prob, Tsit5(), reltol = 1e-8, saveat=h)\n",
    "    return sol.u\n",
    "end\n",
    "\n",
    "function euler()\n",
    "    fun(y, p, t) = -2*y + y*y\n",
    "    tspan = (x_0, x_0 + N * h)\n",
    "    prob = ODEProblem(fun, y0, tspan, dt=h)\n",
    "    sol = solve(prob, Euler(), reltol = 1e-8)\n",
    "    return sol.u\n",
    "end\n",
    "\n",
    "function euler1()\n",
    "    fun(y, p, t) = -2*y + y*y\n",
    "    tspan = (x_0, x_0 + N * h)\n",
    "    prob = ODEProblem(fun, y0, tspan)\n",
    "    sol = solve(prob, Midpoint(), reltol = 1e-8, saveat=h)\n",
    "    return sol.u\n",
    "end\n",
    "\n",
    "function euler2()\n",
    "    fun(y, p, t) = -2*y + y*y\n",
    "    tspan = (x_0, x_0 + N * h)\n",
    "    prob = ODEProblem(fun, y0, tspan)\n",
    "    sol = solve(prob, Trapezoid(), reltol = 1e-8, saveat=h)\n",
    "    return sol.u\n",
    "end"
   ]
  },
  {
   "cell_type": "code",
   "execution_count": 48,
   "id": "0dbe4170-4488-4ce7-9201-331bb29b4633",
   "metadata": {},
   "outputs": [
    {
     "name": "stdout",
     "output_type": "stream",
     "text": [
      "┌────┬──────┬───────────┬──────────┬────────────────┬───────────┬─────────────┬───────────┬───────────┬───────────┐\n",
      "│\u001b[1m  k \u001b[0m│\u001b[1m  x_k \u001b[0m│\u001b[1m     exact \u001b[0m│\u001b[1m   taylor \u001b[0m│\u001b[1m abs err taylor \u001b[0m│\u001b[1m     adams \u001b[0m│\u001b[1m runge-kutta \u001b[0m│\u001b[1m     euler \u001b[0m│\u001b[1m    euler1 \u001b[0m│\u001b[1m    euler2 \u001b[0m│\n",
      "├────┼──────┼───────────┼──────────┼────────────────┼───────────┼─────────────┼───────────┼───────────┼───────────┤\n",
      "│ -2 │ -0.2 │   0.66424 │  0.66424 │     3.79485e-7 │   missing │     missing │   missing │   missing │   missing │\n",
      "│ -1 │ -0.1 │  0.578672 │ 0.578672 │     3.02616e-9 │   missing │     missing │   missing │   missing │   missing │\n",
      "│  0 │  0.0 │       0.5 │      0.5 │            0.0 │       0.5 │         0.5 │       0.5 │       0.5 │       0.5 │\n",
      "│  1 │  0.1 │  0.428797 │ 0.428797 │     3.07344e-9 │  0.428798 │    0.428797 │     0.425 │  0.428797 │  0.428798 │\n",
      "│  2 │  0.2 │  0.365265 │ 0.365266 │     3.92171e-7 │  0.365266 │    0.365265 │  0.358063 │  0.365265 │  0.365263 │\n",
      "│  3 │  0.3 │  0.309293 │   0.3093 │     6.63953e-6 │  0.309294 │    0.309293 │  0.299271 │  0.309293 │  0.309289 │\n",
      "│  4 │  0.4 │  0.260531 │  0.26058 │     4.90336e-5 │  0.260506 │    0.260531 │  0.248373 │  0.260531 │  0.260524 │\n",
      "│  5 │  0.5 │  0.218464 │ 0.218693 │    0.000229489 │  0.218422 │    0.218464 │  0.204867 │  0.218464 │  0.218454 │\n",
      "│  6 │  0.6 │  0.182476 │  0.18328 │    0.000804188 │  0.182418 │    0.182476 │  0.168091 │  0.182476 │  0.182464 │\n",
      "│  7 │  0.7 │  0.151911 │ 0.154218 │     0.00230689 │  0.151847 │    0.151911 │  0.137298 │  0.151911 │  0.151898 │\n",
      "│  8 │  0.8 │  0.126111 │ 0.131825 │     0.00571448 │  0.126044 │    0.126111 │  0.111724 │  0.126111 │  0.126096 │\n",
      "│  9 │  0.9 │  0.104444 │ 0.117099 │      0.0126541 │  0.104382 │    0.104444 │ 0.0906271 │  0.104445 │  0.104429 │\n",
      "│ 10 │  1.0 │ 0.0863291 │ 0.111979 │      0.0256501 │ 0.0862719 │   0.0863291 │  0.073323 │ 0.0863292 │ 0.0863134 │\n",
      "└────┴──────┴───────────┴──────────┴────────────────┴───────────┴─────────────┴───────────┴───────────┴───────────┘\n",
      "nothing"
     ]
    }
   ],
   "source": [
    "exact = []\n",
    "x_arr = Vector{Float64}()\n",
    "calc_exact(x_arr, exact)\n",
    "taylor_sol = taylor_series.(x_arr)\n",
    "adams = call_adams2()\n",
    "rk4 = call_rk4()\n",
    "euler_sol = euler()\n",
    "euler1_sol = euler1()\n",
    "euler2_sol = euler2()\n",
    "\n",
    "header = ([\"k\", \"x_k\", \"exact\", \"taylor\", \"abs err taylor\", \"adams\", \"runge-kutta\", \"euler\", \"euler1\", \"euler2\"])\n",
    "k = collect(-2:N)\n",
    "data = hcat(k, x_arr, exact, taylor_sol, map(abs, taylor_sol .- exact), [fill(missing, 2); adams], [missing; missing; rk4], [missing; missing; euler_sol], [missing; missing; euler1_sol], [missing; missing; euler2_sol])\n",
    "\n",
    "using PrettyTables\n",
    "print(pretty_table(data, header=header))\n",
    "# adams by first 5 taylor\n"
   ]
  },
  {
   "cell_type": "code",
   "execution_count": 49,
   "id": "a48dd8cb-d179-4431-8ee5-16c400c2a721",
   "metadata": {},
   "outputs": [
    {
     "name": "stdout",
     "output_type": "stream",
     "text": [
      "┌────┬──────┬───────────┬─────────────┬────────────┬─────────────┬────────────┬────────────┬────────────┐\n",
      "│\u001b[1m  k \u001b[0m│\u001b[1m  x_k \u001b[0m│\u001b[1m     exact \u001b[0m│\u001b[1m  err taylor \u001b[0m│\u001b[1m  err adams \u001b[0m│\u001b[1m runge-kutta \u001b[0m│\u001b[1m  err euler \u001b[0m│\u001b[1m err euler1 \u001b[0m│\u001b[1m err euler2 \u001b[0m│\n",
      "├────┼──────┼───────────┼─────────────┼────────────┼─────────────┼────────────┼────────────┼────────────┤\n",
      "│ -2 │ -0.2 │   0.66424 │  3.79485e-7 │    missing │     missing │    missing │    missing │    missing │\n",
      "│ -1 │ -0.1 │  0.578672 │  3.02616e-9 │    missing │     missing │    missing │    missing │    missing │\n",
      "│  0 │  0.0 │       0.5 │         0.0 │        0.0 │         0.0 │        0.0 │        0.0 │        0.0 │\n",
      "│  1 │  0.1 │  0.428797 │  3.07344e-9 │ 2.57356e-7 │ 7.99634e-10 │ 0.00379732 │ 1.11154e-8 │ 3.73748e-7 │\n",
      "│  2 │  0.2 │  0.365265 │  3.92171e-7 │ 5.16134e-7 │  1.42453e-9 │ 0.00720267 │ 2.46219e-8 │ 1.82576e-6 │\n",
      "│  3 │  0.3 │  0.309293 │  6.63953e-6 │ 7.59728e-7 │ 4.17914e-10 │  0.0100223 │ 3.88337e-8 │ 4.38493e-6 │\n",
      "│  4 │  0.4 │  0.260531 │  4.90336e-5 │  2.5544e-5 │  2.9049e-11 │  0.0121582 │ 5.30579e-8 │  7.0319e-6 │\n",
      "│  5 │  0.5 │  0.218464 │ 0.000229489 │ 4.19065e-5 │  1.85598e-9 │  0.0135962 │ 6.67938e-8 │ 9.59523e-6 │\n",
      "│  6 │  0.6 │  0.182476 │ 0.000804188 │ 5.80953e-5 │  8.8317e-10 │   0.014385 │ 7.95169e-8 │ 1.16683e-5 │\n",
      "│  7 │  0.7 │  0.151911 │  0.00230689 │ 6.38114e-5 │  6.07383e-9 │  0.0146129 │ 9.12119e-8 │ 1.32666e-5 │\n",
      "│  8 │  0.8 │  0.126111 │  0.00571448 │ 6.62551e-5 │  2.11412e-8 │   0.014387 │ 1.01607e-7 │ 1.44304e-5 │\n",
      "│  9 │  0.9 │  0.104444 │   0.0126541 │ 6.25206e-5 │  1.75352e-8 │  0.0138173 │ 1.10881e-7 │ 1.52105e-5 │\n",
      "│ 10 │  1.0 │ 0.0863291 │   0.0256501 │   5.715e-5 │  3.05629e-9 │   0.013006 │ 1.18726e-7 │ 1.56381e-5 │\n",
      "└────┴──────┴───────────┴─────────────┴────────────┴─────────────┴────────────┴────────────┴────────────┘\n",
      "nothing"
     ]
    }
   ],
   "source": [
    "header = ([\"k\", \"x_k\", \"exact\", \"err taylor\", \"err adams\", \"runge-kutta\", \"err euler\", \"err euler1\", \"err euler2\"])\n",
    "k = collect(-2:N)\n",
    "data = hcat(k, x_arr, exact,\n",
    "    map(abs, taylor_sol .- exact),\n",
    "    map(abs, [missing; missing; adams] .- exact),\n",
    "    map(abs, [missing; missing; rk4] .- exact),\n",
    "    map(abs, [missing; missing; euler_sol] .- exact),\n",
    "    map(abs, [missing; missing; euler1_sol] .- exact),\n",
    "    map(abs, [missing; missing; euler2_sol] .- exact))\n",
    "\n",
    "using PrettyTables\n",
    "print(pretty_table(data, header=header))"
   ]
  },
  {
   "cell_type": "markdown",
   "id": "9fd1d0dd-ce7e-4efe-bc21-fff0e5126b0e",
   "metadata": {},
   "source": [
    "### "
   ]
  },
  {
   "cell_type": "code",
   "execution_count": null,
   "id": "36a42252-c745-4b6f-b11d-da18367c3d75",
   "metadata": {},
   "outputs": [],
   "source": []
  }
 ],
 "metadata": {
  "kernelspec": {
   "display_name": "Julia 1.10.3",
   "language": "julia",
   "name": "julia-1.10"
  },
  "language_info": {
   "file_extension": ".jl",
   "mimetype": "application/julia",
   "name": "julia",
   "version": "1.10.3"
  }
 },
 "nbformat": 4,
 "nbformat_minor": 5
}
