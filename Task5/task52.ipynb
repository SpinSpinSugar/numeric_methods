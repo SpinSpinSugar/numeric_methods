{
 "cells": [
  {
   "cell_type": "code",
   "execution_count": 2,
   "id": "ecc50123-739a-40c5-8fd2-e719dd6e7f54",
   "metadata": {},
   "outputs": [
    {
     "name": "stderr",
     "output_type": "stream",
     "text": [
      "\u001b[32m\u001b[1m    Updating\u001b[22m\u001b[39m registry at `~/.julia/registries/General.toml`\n",
      "\u001b[32m\u001b[1m   Resolving\u001b[22m\u001b[39m package versions...\n",
      "\u001b[32m\u001b[1m  No Changes\u001b[22m\u001b[39m to `~/.julia/environments/v1.10/Project.toml`\n",
      "\u001b[32m\u001b[1m  No Changes\u001b[22m\u001b[39m to `~/.julia/environments/v1.10/Manifest.toml`\n",
      "\u001b[32m\u001b[1m   Resolving\u001b[22m\u001b[39m package versions...\n",
      "\u001b[32m\u001b[1m  No Changes\u001b[22m\u001b[39m to `~/.julia/environments/v1.10/Project.toml`\n",
      "\u001b[32m\u001b[1m  No Changes\u001b[22m\u001b[39m to `~/.julia/environments/v1.10/Manifest.toml`\n"
     ]
    }
   ],
   "source": [
    "using Pkg\n",
    "Pkg.add(\"QuadGK\")\n",
    "Pkg.add(\"FastGaussQuadrature\")"
   ]
  },
  {
   "cell_type": "code",
   "execution_count": 3,
   "id": "a9f61fb9-e419-491d-a0a1-7161b442649c",
   "metadata": {},
   "outputs": [
    {
     "name": "stdout",
     "output_type": "stream",
     "text": [
      "Exact value: 1.350643881047675502520174735338725841349522366924354545323253708857877890836127369040236077822491564\n",
      "N=5\n",
      "[0.07368617668943897 0.18608194038260933; 0.36248535619455374 0.37591407875956473; 0.7853981633974483 0.44680428851054815; 1.2083109706003428 0.37591407875956473; 1.4971101501054576 0.18608194038260933]\n",
      "1.3506430861129723\n",
      "\n",
      "N=6\n",
      "[0.053038319518181845 0.13455794165960058; 0.26608552564569055 0.2833414768963824; 0.5979870928963115 0.3674987448414654; 0.9728092338985851 0.3674987448414652; 1.304710801149206 0.2833414768963824; 1.5177580072767145 0.13455794165960067]\n",
      "1.3506439173470302\n",
      "\n",
      "N=7\n",
      "[0.03997055217745943 0.10169725461661108; 0.20300093212575152 0.21968010076804217; 0.4666481268818812 0.2998886203966753; 0.7853981633974483 0.32826437523223934; 1.1041481999130154 0.2998886203966753; 1.367795394669145 0.21968010076804217; 1.530825774617437 0.10169725461661108]\n",
      "1.3506438843629467\n",
      "\n",
      "N=8\n",
      "[0.031188273775084114 0.07950470648587322; 0.15969777519647113 0.17465765603410505; 0.37264597384332854 0.2463846235180664; 0.6413289320778973 0.2848511773594034; 0.9294673947169992 0.2848511773594034; 1.198150352951568 0.2463846235180664; 1.4110985515984253 0.17465765603410505; 1.5396080530198124 0.07950470648587347]\n",
      "1.3506438806244754\n",
      "\n"
     ]
    }
   ],
   "source": [
    "using QuadGK\n",
    "(a, b) = (0, pi / 2)\n",
    "N = 5:8\n",
    "f(x) = sqrt(1 - 0.5 * sin(x) ^ 2)\n",
    "exact_val =\"1.350643881047675502520174735338725841349522366924354545323253708857877890836127369040236077822491564\"\n",
    "println(\"Exact value: $exact_val\")\n",
    "for i in N\n",
    "    println(\"N=$i\")\n",
    "    x, w = gauss(i, a, b)\n",
    "    println([x w])\n",
    "    qv = sum(w .* f.(x))\n",
    "    println(\"$qv\\n\")\n",
    "end"
   ]
  },
  {
   "cell_type": "code",
   "execution_count": 4,
   "id": "bd4f1004-b2b7-410f-b342-07a0b8d324d4",
   "metadata": {},
   "outputs": [
    {
     "name": "stdout",
     "output_type": "stream",
     "text": [
      "Exact value: 2.2214414690791831235079404950303468\n",
      "N=5: 2.222102120831805\n",
      "N=8: 2.2214381328676525\n",
      "N=12: 2.2214414661881805\n"
     ]
    }
   ],
   "source": [
    "rho(x) = 1 / sqrt(1 - x^2)\n",
    "f(x) = 1 / (1 + x^2)\n",
    "(a, b) = (-1, 1)\n",
    "Ns = (5, 8, 12)\n",
    "exact_val = \"2.2214414690791831235079404950303468\"\n",
    "println(\"Exact value: $exact_val\")\n",
    "calc_x(k, n) = cos((2*k - 1) / (2 * n) * pi)\n",
    "for n in Ns\n",
    "    r = 1:n\n",
    "    x = calc_x.(r, n)\n",
    "    w = pi / n\n",
    "    qv = w * sum(f.(x))\n",
    "    println(\"N=$n: $qv\")\n",
    "    \n",
    "end\n"
   ]
  },
  {
   "cell_type": "code",
   "execution_count": 7,
   "id": "21535d95-eb20-412f-91e3-b9de40f281ee",
   "metadata": {},
   "outputs": [
    {
     "name": "stdout",
     "output_type": "stream",
     "text": [
      "Exact value: 2.221441469079183\n",
      "N=10: 2.2214413708702136\n",
      "9.820896940127e-8\n",
      "N=20: 2.221441469079181\n",
      "2.220446049250313e-15\n",
      "N=30: 2.221441469079183\n",
      "0.0\n"
     ]
    }
   ],
   "source": [
    "using FastGaussQuadrature, LinearAlgebra\n",
    "rho(x) = 1 / sqrt(1 - x^2)\n",
    "f(x) = 1 / (1 + x^2)\n",
    "(a, b) = (-1, 1)\n",
    "Ns = (10, 20, 30)\n",
    "exact_val = 2.2214414690791831235079404950303468\n",
    "println(\"Exact value: $exact_val\")\n",
    "for n in Ns\n",
    "    x, w = gausschebyshevt(n);\n",
    "    qv = dot(w,f.(x))\n",
    "    println(\"N=$n: $qv\")\n",
    "    println(abs(exact_val-qv))\n",
    "end"
   ]
  },
  {
   "cell_type": "code",
   "execution_count": null,
   "id": "ec8af578-ecc7-4ac7-b4ca-5c72ed07e844",
   "metadata": {},
   "outputs": [],
   "source": []
  }
 ],
 "metadata": {
  "kernelspec": {
   "display_name": "Julia 1.10.3",
   "language": "julia",
   "name": "julia-1.10"
  },
  "language_info": {
   "file_extension": ".jl",
   "mimetype": "application/julia",
   "name": "julia",
   "version": "1.10.3"
  }
 },
 "nbformat": 4,
 "nbformat_minor": 5
}
