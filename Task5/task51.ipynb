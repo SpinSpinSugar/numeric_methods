{
 "cells": [
  {
   "cell_type": "code",
   "execution_count": 2,
   "id": "deb1731b-33e2-4696-8787-63c5133f2957",
   "metadata": {},
   "outputs": [],
   "source": [
    "# https://kpfu.ru/staff_files/F729138391/6_Interpolyacionnye_kvadratury.pdf"
   ]
  },
  {
   "cell_type": "code",
   "execution_count": 5,
   "id": "8ad91f5f-036e-447f-a025-aa988b71ec55",
   "metadata": {},
   "outputs": [
    {
     "data": {
      "text/plain": [
       "rho (generic function with 1 method)"
      ]
     },
     "execution_count": 5,
     "metadata": {},
     "output_type": "execute_result"
    }
   ],
   "source": [
    "(a, b, N) = (1e-20, 1, 17)\n",
    "f(x) = cos(x)\n",
    "rho(x) = sqrt(x)"
   ]
  },
  {
   "cell_type": "code",
   "execution_count": 6,
   "id": "d1bee6b1-8432-482e-9c20-97a64c70a9dd",
   "metadata": {},
   "outputs": [
    {
     "data": {
      "text/plain": [
       "0.620536603446762203616304846330793015149018777664893435465217121287544759005285"
      ]
     },
     "execution_count": 6,
     "metadata": {},
     "output_type": "execute_result"
    }
   ],
   "source": [
    "EXACT::BigFloat = parse(BigFloat,\n",
    "    \"0.6205366034467622036163048463307930151490187776648934354652171212875447590052889374947286820148085157\")"
   ]
  },
  {
   "cell_type": "code",
   "execution_count": 7,
   "id": "e75ebfb9-b069-4979-85a3-e75dd21329da",
   "metadata": {},
   "outputs": [
    {
     "data": {
      "text/plain": [
       "17-element Vector{Float64}:\n",
       " 1.0\n",
       " 0.9980475107000991\n",
       " 0.992197667229329\n",
       " 0.9824733131012553\n",
       " 0.9689124217106447\n",
       " 0.9515679480481722\n",
       " 0.9305076219123143\n",
       " 0.9058136834259364\n",
       " 0.8775825618903728\n",
       " 0.8459244992310679\n",
       " 0.8109631195052179\n",
       " 0.7728349461524715\n",
       " 0.7316888688738209\n",
       " 0.6876855622205048\n",
       " 0.6409968581633252\n",
       " 0.5918050750924775\n",
       " 0.5403023058681398"
      ]
     },
     "execution_count": 7,
     "metadata": {},
     "output_type": "execute_result"
    }
   ],
   "source": [
    "range = LinRange(a, b, N)\n",
    "fn(x) = rho(x) * f(x)\n",
    "x_table = collect(range)\n",
    "y_table = f.(range)"
   ]
  },
  {
   "cell_type": "code",
   "execution_count": 8,
   "id": "2692d267-439a-441b-8121-8bfd652be4ac",
   "metadata": {},
   "outputs": [
    {
     "data": {
      "text/plain": [
       "(0.53120268322973, 2.513640555754314e-9)"
      ]
     },
     "execution_count": 8,
     "metadata": {},
     "output_type": "execute_result"
    }
   ],
   "source": [
    "using Polynomials, SpecialPolynomials, QuadGK\n",
    "lagrange = fit(Lagrange, x_table, y_table)\n",
    "antider_lagrange = integrate(lagrange)\n",
    "num_int = antider_lagrange(b) - antider_lagrange(a)\n",
    "I, est = quadgk((x) -> rho(x) * lagrange(x), a, b, rtol=1e-8)"
   ]
  },
  {
   "cell_type": "code",
   "execution_count": null,
   "id": "60b51790-16e0-41f1-bc61-66d51619ee9c",
   "metadata": {},
   "outputs": [],
   "source": []
  }
 ],
 "metadata": {
  "kernelspec": {
   "display_name": "Julia 1.10.3",
   "language": "julia",
   "name": "julia-1.10"
  },
  "language_info": {
   "file_extension": ".jl",
   "mimetype": "application/julia",
   "name": "julia",
   "version": "1.10.3"
  }
 },
 "nbformat": 4,
 "nbformat_minor": 5
}
