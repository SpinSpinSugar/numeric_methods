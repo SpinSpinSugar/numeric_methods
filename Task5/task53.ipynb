{
 "cells": [
  {
   "cell_type": "code",
   "execution_count": 2,
   "id": "6463986f-aa22-49bd-a172-dc2791aa5862",
   "metadata": {},
   "outputs": [],
   "source": [
    "# Приближённое вычисление интеграла по составным квадратурным формулам"
   ]
  },
  {
   "cell_type": "code",
   "execution_count": 3,
   "id": "0ba9d54e-95b1-45b6-bda3-8900e7f326f8",
   "metadata": {},
   "outputs": [
    {
     "data": {
      "text/plain": [
       "integrate_gauss_skf (generic function with 1 method)"
      ]
     },
     "execution_count": 3,
     "metadata": {},
     "output_type": "execute_result"
    }
   ],
   "source": [
    "rho(x) = 1 / sqrt(x)\n",
    "f(x) = sin(x)\n",
    "\n",
    "pure_int = \"0.620536603446762203616304846330793015149018\"\n",
    "\n",
    "(a, b, N, m) = (1e-6, 1, 1000, 100)\n",
    "h = (b - a) / N\n",
    "\n",
    "using QuadGK\n",
    "function gauss_int(s, e, fun)\n",
    "    x, w = gauss(m, s, e)\n",
    "    qv = sum(w .* fun.(x))\n",
    "end\n",
    "\n",
    "function integrate_gauss_skf(fn)\n",
    "    sum = 0\n",
    "    for i = 0:N-1\n",
    "        sum += gauss_int(a + i * h, a + (i + 1) * h, (x) -> rho(x) * f(x))\n",
    "    end\n",
    "    return sum\n",
    "end\n"
   ]
  },
  {
   "cell_type": "code",
   "execution_count": null,
   "id": "9c4cea33-5dce-4eed-9a20-5185aa938c5a",
   "metadata": {},
   "outputs": [],
   "source": [
    "header = ([\"exact_int\", \"gauss_skf\"])\n",
    "using PrettyTables\n",
    "exact = pure_int\n",
    "res = integrate_gauss_skf(f)\n",
    "data = hcat(exact, res...)\n",
    "println(abs(exact-res))\n",
    "results_table = pretty_table(data, header = header)"
   ]
  },
  {
   "cell_type": "code",
   "execution_count": null,
   "id": "02b41d63-5294-4c8e-86b6-d6871046b147",
   "metadata": {},
   "outputs": [],
   "source": []
  }
 ],
 "metadata": {
  "kernelspec": {
   "display_name": "Julia 1.10.3",
   "language": "julia",
   "name": "julia-1.10"
  },
  "language_info": {
   "file_extension": ".jl",
   "mimetype": "application/julia",
   "name": "julia",
   "version": "1.10.3"
  }
 },
 "nbformat": 4,
 "nbformat_minor": 5
}
