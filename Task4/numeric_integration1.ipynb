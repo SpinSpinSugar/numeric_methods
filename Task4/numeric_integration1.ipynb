{
 "cells": [
  {
   "cell_type": "code",
   "execution_count": 13,
   "id": "6463986f-aa22-49bd-a172-dc2791aa5862",
   "metadata": {},
   "outputs": [],
   "source": [
    "# Приближённое вычисление интеграла по квадратурным формулам"
   ]
  },
  {
   "cell_type": "code",
   "execution_count": 14,
   "id": "0ba9d54e-95b1-45b6-bda3-8900e7f326f8",
   "metadata": {},
   "outputs": [
    {
     "data": {
      "text/plain": [
       "q_3_8 (generic function with 1 method)"
      ]
     },
     "execution_count": 14,
     "metadata": {},
     "output_type": "execute_result"
    }
   ],
   "source": [
    "f(x) = x\n",
    "intf(x) = x^2/2\n",
    "pure_int(a, b) = intf(b) - intf(a)\n",
    "\n",
    "(a, b) = (5, 10)\n",
    "function q_left(fn)\n",
    "    (b - a) * fn(a)\n",
    "end\n",
    "\n",
    "function q_right(fn)\n",
    "    (b - a) * fn(b)\n",
    "end\n",
    "\n",
    "function q_center(fn)\n",
    "    (b - a) * fn((b + a) / 2)\n",
    "end\n",
    "\n",
    "function q_trapez(fn)\n",
    "    (b - a) / 2 * (fn(a) + f(b))\n",
    "end\n",
    "\n",
    "function q_simpson(fn)\n",
    "    (b - a) / 6 * (fn(a) + 4 * fn((a + b) / 2) + fn(b))\n",
    "end\n",
    "\n",
    "function q_3_8(fn)\n",
    "    h = (b - a) / 3\n",
    "    (b - a) / 8 * (fn(a) + 3 * fn(a + h) + 3 * fn(a + 2 * h) + fn(b))\n",
    "end"
   ]
  },
  {
   "cell_type": "code",
   "execution_count": 15,
   "id": "9c4cea33-5dce-4eed-9a20-5185aa938c5a",
   "metadata": {},
   "outputs": [
    {
     "name": "stdout",
     "output_type": "stream",
     "text": [
      "┌───────────┬────────┬─────────┬──────────┬──────────┬───────────┬───────┐\n",
      "│\u001b[1m exact_int \u001b[0m│\u001b[1m q_left \u001b[0m│\u001b[1m q_right \u001b[0m│\u001b[1m q_center \u001b[0m│\u001b[1m q_trapez \u001b[0m│\u001b[1m q_simpson \u001b[0m│\u001b[1m q_3_8 \u001b[0m│\n",
      "├───────────┼────────┼─────────┼──────────┼──────────┼───────────┼───────┤\n",
      "│      37.5 │   25.0 │    50.0 │     37.5 │     37.5 │      37.5 │  37.5 │\n",
      "└───────────┴────────┴─────────┴──────────┴──────────┴───────────┴───────┘\n"
     ]
    }
   ],
   "source": [
    "header = ([\"exact_int\", \"q_left\", \"q_right\", \"q_center\", \"q_trapez\", \"q_simpson\", \"q_3_8\"])\n",
    "using PrettyTables\n",
    "new_f = (x) -> f(x)\n",
    "exact = pure_int(a, b)\n",
    "res = map((x) -> x, [q_left(new_f), q_right(new_f), q_center(new_f), q_trapez(new_f), q_simpson(new_f), q_3_8(new_f)])\n",
    "data = hcat(exact, res...)\n",
    "results_table = pretty_table(data, header = header)"
   ]
  },
  {
   "cell_type": "code",
   "execution_count": 16,
   "id": "235fe59c-366f-4d49-8f07-cc564f2dc8cb",
   "metadata": {},
   "outputs": [
    {
     "name": "stdout",
     "output_type": "stream",
     "text": [
      "┌───────────┬────────────┬─────────────┬──────────────┬──────────────┬───────────────┬───────────┐\n",
      "│\u001b[1m exact_int \u001b[0m│\u001b[1m q_left_err \u001b[0m│\u001b[1m q_right_err \u001b[0m│\u001b[1m q_center_err \u001b[0m│\u001b[1m q_trapez_err \u001b[0m│\u001b[1m q_simpson_err \u001b[0m│\u001b[1m q_3_8_err \u001b[0m│\n",
      "├───────────┼────────────┼─────────────┼──────────────┼──────────────┼───────────────┼───────────┤\n",
      "│      37.5 │       12.5 │        12.5 │          0.0 │          0.0 │           0.0 │       0.0 │\n",
      "└───────────┴────────────┴─────────────┴──────────────┴──────────────┴───────────────┴───────────┘\n"
     ]
    }
   ],
   "source": [
    "header = ([\"exact_int\", \"q_left_err\", \"q_right_err\", \"q_center_err\", \"q_trapez_err\", \"q_simpson_err\", \"q_3_8_err\"])\n",
    "err = hcat(exact, map(abs, res .- exact)...)\n",
    "err_table = pretty_table(err, header=header)"
   ]
  },
  {
   "cell_type": "code",
   "execution_count": null,
   "id": "6efb1fd8-7a30-4d1e-9da5-39a5289e3d7c",
   "metadata": {},
   "outputs": [],
   "source": []
  }
 ],
 "metadata": {
  "kernelspec": {
   "display_name": "Julia 1.10.3",
   "language": "julia",
   "name": "julia-1.10"
  },
  "language_info": {
   "file_extension": ".jl",
   "mimetype": "application/julia",
   "name": "julia",
   "version": "1.10.3"
  }
 },
 "nbformat": 4,
 "nbformat_minor": 5
}
