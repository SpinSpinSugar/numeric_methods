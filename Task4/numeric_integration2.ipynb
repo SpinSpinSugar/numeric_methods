{
 "cells": [
  {
   "cell_type": "code",
   "execution_count": 12,
   "id": "6463986f-aa22-49bd-a172-dc2791aa5862",
   "metadata": {},
   "outputs": [],
   "source": [
    "# Приближённое вычисление интеграла по составным квадратурным формулам"
   ]
  },
  {
   "cell_type": "code",
   "execution_count": 13,
   "id": "0ba9d54e-95b1-45b6-bda3-8900e7f326f8",
   "metadata": {},
   "outputs": [
    {
     "data": {
      "text/plain": [
       "q_simpson (generic function with 1 method)"
      ]
     },
     "execution_count": 13,
     "metadata": {},
     "output_type": "execute_result"
    }
   ],
   "source": [
    "rho(x) = 1\n",
    "f(x) = rho(x) * log(1 + x)\n",
    "function df(x, order)\n",
    "    if order == 1\n",
    "        return 1 / (1 + x)\n",
    "    elseif order == 2\n",
    "        return -1 / ((1 + x) ^ 2)\n",
    "    elseif order == 3    \n",
    "        return 2 / ((1 + x) ^ 3)\n",
    "    elseif order == 4\n",
    "        return -6 / ((1 + x) ^ 4) \n",
    "    else\n",
    "        throw(e)\n",
    "    end\n",
    "end\n",
    "\n",
    "intf(x) = (1 + x) * log(1 + x) - x\n",
    "pure_int(a, b) = intf(b) - intf(a)\n",
    "\n",
    "(a, b, m) = (50, 100, 1e4)\n",
    "h = (b - a) / m\n",
    "r = a:h:b\n",
    "function q_left(fn)\n",
    "    sum = 0\n",
    "    for i = 0:m-1\n",
    "        sum += fn(a + i * h) * h\n",
    "    end\n",
    "    return sum\n",
    "end\n",
    "\n",
    "function q_right(fn)\n",
    "    sum = 0\n",
    "    for i = 1:m\n",
    "        sum += fn(a + i * h) * h\n",
    "    end\n",
    "    return sum\n",
    "end\n",
    "\n",
    "function q_center(fn)\n",
    "    sum = 0\n",
    "    for i = 0:m-1\n",
    "        sum += f(a + (i + 1/2) * h) * h\n",
    "    end\n",
    "    return sum\n",
    "end\n",
    "\n",
    "function q_trapez(fn)\n",
    "    sum = 0\n",
    "    sum += f(a) + f(b)\n",
    "    for i = 1:m-1\n",
    "        sum += 2 * fn(a + i * h)\n",
    "    end\n",
    "    sum *= h / 2\n",
    "    return sum\n",
    "end\n",
    "\n",
    "function q_simpson(fn)\n",
    "    sum = 0\n",
    "    for i = 1:2:m-1\n",
    "        sum += h / 3 * (fn(a+(i-1) * h) + 4 * fn(a + i * h) + fn(a + (i+1)*h))\n",
    "        end\n",
    "    return sum\n",
    "end"
   ]
  },
  {
   "cell_type": "code",
   "execution_count": 14,
   "id": "9c4cea33-5dce-4eed-9a20-5185aa938c5a",
   "metadata": {},
   "outputs": [
    {
     "name": "stdout",
     "output_type": "stream",
     "text": [
      "┌───────────┬─────────┬─────────┬──────────┬──────────┬───────────┐\n",
      "│\u001b[1m exact_int \u001b[0m│\u001b[1m  q_left \u001b[0m│\u001b[1m q_right \u001b[0m│\u001b[1m q_center \u001b[0m│\u001b[1m q_trapez \u001b[0m│\u001b[1m q_simpson \u001b[0m│\n",
      "├───────────┼─────────┼─────────┼──────────┼──────────┼───────────┤\n",
      "│   215.604 │ 215.602 │ 215.606 │  215.604 │  215.604 │   215.604 │\n",
      "└───────────┴─────────┴─────────┴──────────┴──────────┴───────────┘\n"
     ]
    }
   ],
   "source": [
    "header = ([\"exact_int\", \"q_left\", \"q_right\", \"q_center\", \"q_trapez\", \"q_simpson\"])\n",
    "using PrettyTables\n",
    "new_f = (x) -> f(x)\n",
    "exact = pure_int(a, b)\n",
    "res = [q_left(new_f), q_right(new_f), q_center(new_f), q_trapez(new_f), q_simpson(new_f)]\n",
    "data = hcat(exact, res...)\n",
    "results_table = pretty_table(data, header = header)"
   ]
  },
  {
   "cell_type": "code",
   "execution_count": 15,
   "id": "235fe59c-366f-4d49-8f07-cc564f2dc8cb",
   "metadata": {},
   "outputs": [
    {
     "name": "stdout",
     "output_type": "stream",
     "text": [
      "┌───────────┬────────────┬─────────────┬──────────────┬──────────────┬───────────────┐\n",
      "│\u001b[1m exact_int \u001b[0m│\u001b[1m q_left_err \u001b[0m│\u001b[1m q_right_err \u001b[0m│\u001b[1m q_center_err \u001b[0m│\u001b[1m q_trapez_err \u001b[0m│\u001b[1m q_simpson_err \u001b[0m│\n",
      "├───────────┼────────────┼─────────────┼──────────────┼──────────────┼───────────────┤\n",
      "│   215.604 │ 0.00170826 │  0.00170822 │   1.01119e-8 │   2.02224e-8 │   2.55795e-13 │\n",
      "└───────────┴────────────┴─────────────┴──────────────┴──────────────┴───────────────┘\n",
      "2.5579538487363607e-13\n"
     ]
    }
   ],
   "source": [
    "header = ([\"exact_int\", \"q_left_err\", \"q_right_err\", \"q_center_err\", \"q_trapez_err\", \"q_simpson_err\"])\n",
    "err = hcat(exact, map(abs, res .- exact)...)\n",
    "err_table = pretty_table(err, header=header)\n",
    "println(exact - res[5])"
   ]
  },
  {
   "cell_type": "code",
   "execution_count": 16,
   "id": "6efb1fd8-7a30-4d1e-9da5-39a5289e3d7c",
   "metadata": {},
   "outputs": [
    {
     "name": "stdout",
     "output_type": "stream",
     "text": [
      "┌───────────┬──────────────┬───────────────┬────────────────┬────────────────┬─────────────────┐\n",
      "│\u001b[1m exact_int \u001b[0m│\u001b[1m t_q_left_err \u001b[0m│\u001b[1m t_q_right_err \u001b[0m│\u001b[1m t_q_center_err \u001b[0m│\u001b[1m t_q_trapez_err \u001b[0m│\u001b[1m t_q_simpson_err \u001b[0m│\n",
      "├───────────┼──────────────┼───────────────┼────────────────┼────────────────┼─────────────────┤\n",
      "│   215.604 │   0.00245098 │    0.00245098 │     2.00243e-8 │     4.00487e-8 │     9.62339e-18 │\n",
      "└───────────┴──────────────┴───────────────┴────────────────┴────────────────┴─────────────────┘\n"
     ]
    }
   ],
   "source": [
    "header = ([\"exact_int\", \"t_q_left_err\", \"t_q_right_err\", \"t_q_center_err\", \"t_q_trapez_err\", \"t_q_simpson_err\"])\n",
    "theor_err(c, ast) = c * maximum(map(abs, df.(r, ast + 1))) * (b - a) * (h ^ (ast + 1))\n",
    "theor_err_list = [theor_err(0.5, 0), theor_err(0.5, 0), theor_err(1/24, 1), theor_err(1/12, 1), theor_err(1/2880, 3)]\n",
    "err = hcat(exact, theor_err_list...)\n",
    "err_table = pretty_table(err, header=header)"
   ]
  },
  {
   "cell_type": "code",
   "execution_count": null,
   "id": "b8964042-07e0-4cd9-a92d-c65947547038",
   "metadata": {},
   "outputs": [],
   "source": []
  }
 ],
 "metadata": {
  "kernelspec": {
   "display_name": "Julia 1.10.3",
   "language": "julia",
   "name": "julia-1.10"
  },
  "language_info": {
   "file_extension": ".jl",
   "mimetype": "application/julia",
   "name": "julia",
   "version": "1.10.3"
  }
 },
 "nbformat": 4,
 "nbformat_minor": 5
}
