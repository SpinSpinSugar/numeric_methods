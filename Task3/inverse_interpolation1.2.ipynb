{
 "cells": [
  {
   "cell_type": "code",
   "execution_count": 1,
   "id": "6463986f-aa22-49bd-a172-dc2791aa5862",
   "metadata": {},
   "outputs": [],
   "source": [
    "# Задача алгебраического интерполирования"
   ]
  },
  {
   "cell_type": "code",
   "execution_count": 2,
   "id": "0ba9d54e-95b1-45b6-bda3-8900e7f326f8",
   "metadata": {},
   "outputs": [
    {
     "data": {
      "text/plain": [
       "f (generic function with 1 method)"
      ]
     },
     "execution_count": 2,
     "metadata": {},
     "output_type": "execute_result"
    }
   ],
   "source": [
    "f(x) = exp(x) - x"
   ]
  },
  {
   "cell_type": "code",
   "execution_count": 3,
   "id": "0ddd2d89-1b8a-4d7d-a3ee-b5138f89f582",
   "metadata": {},
   "outputs": [
    {
     "data": {
      "text/plain": [
       "(0, 1, 10, 7, 1.0e-8)"
      ]
     },
     "execution_count": 3,
     "metadata": {},
     "output_type": "execute_result"
    }
   ],
   "source": [
    "(a, b, mp1, n, eps) = (0, 1, 10, 7, 1e-8)"
   ]
  },
  {
   "cell_type": "code",
   "execution_count": 4,
   "id": "a911dfeb-7148-4461-b7d8-2d7e27b35174",
   "metadata": {},
   "outputs": [
    {
     "data": {
      "text/plain": [
       "1.42223"
      ]
     },
     "execution_count": 4,
     "metadata": {},
     "output_type": "execute_result"
    }
   ],
   "source": [
    "# x = parse(Float64, readline())\n",
    "x = 1.42223"
   ]
  },
  {
   "cell_type": "code",
   "execution_count": 5,
   "id": "50c7854b-86e7-42f3-9a69-25c96940290f",
   "metadata": {},
   "outputs": [
    {
     "data": {
      "text/plain": [
       "10-element Vector{Float64}:\n",
       " 1.0\n",
       " 1.0064079576307525\n",
       " 1.02662664677946\n",
       " 1.0622790917527563\n",
       " 1.1151790531623362\n",
       " 1.1873534430779022\n",
       " 1.2810673743880092\n",
       " 1.3988521539384706\n",
       " 1.5435365653983188\n",
       " 1.718281828459045"
      ]
     },
     "execution_count": 5,
     "metadata": {},
     "output_type": "execute_result"
    }
   ],
   "source": [
    "r = LinRange(a, b, mp1)\n",
    "x_table = collect(r)\n",
    "y_table = f.(x_table)"
   ]
  },
  {
   "cell_type": "code",
   "execution_count": 6,
   "id": "9f964bac-e9dd-43e0-a866-a842b737589f",
   "metadata": {},
   "outputs": [
    {
     "data": {
      "text/plain": [
       "8-element Vector{Float64}:\n",
       " 1.718281828459045\n",
       " 1.5435365653983188\n",
       " 1.3988521539384706\n",
       " 1.2810673743880092\n",
       " 1.1873534430779022\n",
       " 1.1151790531623362\n",
       " 1.0622790917527563\n",
       " 1.02662664677946"
      ]
     },
     "execution_count": 6,
     "metadata": {},
     "output_type": "execute_result"
    }
   ],
   "source": [
    "full_table = [el for el in zip(x_table, y_table)] # x_table and y_table changed\n",
    "pred = elem -> abs(elem[1] - x) # sort by closest element\n",
    "sort!(full_table, by=pred)\n",
    "chopped_table = collect(Iterators.take(full_table, n + 1))\n",
    "chopped_x_table = collect(map(el -> el[1], chopped_table))\n",
    "chopped_y_table = collect(map(el -> el[2], chopped_table))\n",
    "\n",
    "#sort back?\n",
    "#chopped_table = collect(zip(chopped_x_table, chopped_y_table))\n",
    "#sort!(chopped_table)\n",
    "#chopped_x_table = collect(map(el -> el[1], chopped_table))\n",
    "#chopped_y_table = collect(map(el -> el[2], chopped_table))"
   ]
  },
  {
   "cell_type": "code",
   "execution_count": 7,
   "id": "c753c6f8-187d-459c-88f6-2e281cb97a61",
   "metadata": {},
   "outputs": [],
   "source": [
    "#using Pkg\n",
    "#Pkg.add(\"Polynomials\")\n",
    "#Pkg.add(\"SpecialPolynomials\")\n"
   ]
  },
  {
   "cell_type": "code",
   "execution_count": 8,
   "id": "7d69d73d-405e-45a1-adf4-989f719f2b9d",
   "metadata": {},
   "outputs": [
    {
     "data": {
      "text/latex": [
       "$1.718281828459045⋅ℓ_0(x) + 1.5435365653983188⋅ℓ_1(x) + 1.3988521539384706⋅ℓ_2(x) + 1.2810673743880092⋅ℓ_3(x) + 1.1873534430779022⋅ℓ_4(x) + 1.1151790531623362⋅ℓ_5(x) + 1.0622790917527563⋅ℓ_6(x) + 1.02662664677946⋅ℓ_7(x)$"
      ]
     },
     "metadata": {},
     "output_type": "display_data"
    },
    {
     "name": "stdout",
     "output_type": "stream",
     "text": [
      "0.00022427318157344368 %\n"
     ]
    },
    {
     "data": {
      "text/plain": [
       "1-element Vector{ComplexF64}:\n",
       " 0.7972994917869181 + 0.0im"
      ]
     },
     "execution_count": 8,
     "metadata": {},
     "output_type": "execute_result"
    }
   ],
   "source": [
    "using Polynomials, SpecialPolynomials\n",
    "lagrange = fit(Lagrange, chopped_x_table, chopped_y_table)\n",
    "display(\"text/latex\", lagrange)\n",
    "err_lagrange = abs(lagrange(x) - f(x)) / f(x)\n",
    "println(\"$(err_lagrange*100) %\")\n",
    "nl = lagrange - x\n",
    "lagrange_roots = filter((x) -> (abs(x.im) < 1e-6 && x.re >= a && x.re <= b), roots(nl))"
   ]
  },
  {
   "cell_type": "code",
   "execution_count": 9,
   "id": "b7130d07-d542-4ff8-9699-67218d400099",
   "metadata": {},
   "outputs": [
    {
     "data": {
      "text/latex": [
       "$1.02662664677946⋅p_0(x) + 0.32087200475966604⋅p_1(x) + 0.6985244156694919⋅p_2(x) + 0.24626981646882337⋅p_3(x) + 0.06511814885388113⋅p_4(x) + 0.013774723580872327⋅p_5(x) + 0.002428189030368966⋅p_6(x) + 0.0003668895208847354⋅p_7(x)$"
      ]
     },
     "metadata": {},
     "output_type": "display_data"
    },
    {
     "name": "stdout",
     "output_type": "stream",
     "text": [
      "0.0002242730472117226 %\n"
     ]
    },
    {
     "data": {
      "text/plain": [
       "1-element Vector{ComplexF64}:\n",
       " 0.7972917404833246 + 0.0im"
      ]
     },
     "execution_count": 9,
     "metadata": {},
     "output_type": "execute_result"
    }
   ],
   "source": [
    "using Polynomials, SpecialPolynomials\n",
    "newton = fit(Newton, chopped_x_table, chopped_y_table)\n",
    "np = convert(Polynomial, newton)\n",
    "display(\"text/latex\", newton)\n",
    "err_newton = abs(newton(x) - f(x)) / f(x)\n",
    "println(\"$(err_newton*100) %\")\n",
    "newl = newton - x\n",
    "newton_roots = filter((x) -> (abs(x.im) < 1e-6 && x.re >= a && x.re <= b), roots(newl))"
   ]
  },
  {
   "cell_type": "code",
   "execution_count": 10,
   "id": "b88ae4c6-01f0-451d-91eb-d4c5ff70b932",
   "metadata": {},
   "outputs": [
    {
     "name": "stdout",
     "output_type": "stream",
     "text": [
      "[9.4530003285076e-6][5.0401016693513156e-11]"
     ]
    }
   ],
   "source": [
    "lagrange_res = f.(map((x) -> x.re, lagrange_roots))\n",
    "newton_res = f.(map((x) -> x.re, newton_roots))\n",
    "lagrange_err = lagrange_res .- x\n",
    "newton_err = newton_res .- x\n",
    "print(lagrange_err)\n",
    "print(newton_err)"
   ]
  }
 ],
 "metadata": {
  "kernelspec": {
   "display_name": "Julia 1.10.3",
   "language": "julia",
   "name": "julia-1.10"
  },
  "language_info": {
   "file_extension": ".jl",
   "mimetype": "application/julia",
   "name": "julia",
   "version": "1.10.3"
  }
 },
 "nbformat": 4,
 "nbformat_minor": 5
}
